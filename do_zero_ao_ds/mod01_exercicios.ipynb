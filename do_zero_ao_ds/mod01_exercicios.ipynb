{
 "cells": [
  {
   "cell_type": "markdown",
   "id": "88145281",
   "metadata": {},
   "source": [
    "# Perguntas\n",
    "\n",
    "**1.** Qual a soma total dos quartos ? 72854\n",
    "\n",
    "**2.** Quantas casas possuem dois banheiros? 1930\n",
    "\n",
    "**3.** Qual o preço médio de todas as casas ? 540088.14\n",
    "\n",
    "**4.** Qual o preço médio das casas com dois banheiros ? 457889.72\n",
    "\n",
    "**5.** Qual o preço mínimo entre as casas com 3 quartos ? 466232.08\n",
    "\n",
    "**6.** Quantas casas possuem mais de 300 metros quadrados na sala de estar ?\n",
    "\n",
    "**7.** Quantas casas tem mais de 2 andares ?\n",
    "\n",
    "**8.** Quantas casas tem vista para o mar ? \n",
    "\n",
    "**9.** Das casas com vista para o mar, quantas tem 3 quartos ?\n",
    "\n",
    "**10.** Das salas com mais de 300 metros na sala de estar, quantas tem mais de 2 banheiros ?"
   ]
  },
  {
   "cell_type": "code",
   "execution_count": 1,
   "id": "6e020a0e",
   "metadata": {
    "ExecuteTime": {
     "end_time": "2022-02-11T05:56:42.752665Z",
     "start_time": "2022-02-11T05:56:41.376077Z"
    }
   },
   "outputs": [],
   "source": [
    "import pandas as pd"
   ]
  },
  {
   "cell_type": "code",
   "execution_count": 3,
   "id": "9d301b33",
   "metadata": {
    "ExecuteTime": {
     "end_time": "2022-02-11T05:56:58.923640Z",
     "start_time": "2022-02-11T05:56:58.853237Z"
    }
   },
   "outputs": [],
   "source": [
    "data = pd.read_csv('./datasets/kc_house_data.csv')"
   ]
  },
  {
   "cell_type": "code",
   "execution_count": 4,
   "id": "54cd4bab",
   "metadata": {
    "ExecuteTime": {
     "end_time": "2022-02-11T05:57:01.601471Z",
     "start_time": "2022-02-11T05:57:01.574336Z"
    }
   },
   "outputs": [
    {
     "data": {
      "text/html": [
       "<div>\n",
       "<style scoped>\n",
       "    .dataframe tbody tr th:only-of-type {\n",
       "        vertical-align: middle;\n",
       "    }\n",
       "\n",
       "    .dataframe tbody tr th {\n",
       "        vertical-align: top;\n",
       "    }\n",
       "\n",
       "    .dataframe thead th {\n",
       "        text-align: right;\n",
       "    }\n",
       "</style>\n",
       "<table border=\"1\" class=\"dataframe\">\n",
       "  <thead>\n",
       "    <tr style=\"text-align: right;\">\n",
       "      <th></th>\n",
       "      <th>id</th>\n",
       "      <th>date</th>\n",
       "      <th>price</th>\n",
       "      <th>bedrooms</th>\n",
       "      <th>bathrooms</th>\n",
       "      <th>sqft_living</th>\n",
       "      <th>sqft_lot</th>\n",
       "      <th>floors</th>\n",
       "      <th>waterfront</th>\n",
       "      <th>view</th>\n",
       "      <th>...</th>\n",
       "      <th>grade</th>\n",
       "      <th>sqft_above</th>\n",
       "      <th>sqft_basement</th>\n",
       "      <th>yr_built</th>\n",
       "      <th>yr_renovated</th>\n",
       "      <th>zipcode</th>\n",
       "      <th>lat</th>\n",
       "      <th>long</th>\n",
       "      <th>sqft_living15</th>\n",
       "      <th>sqft_lot15</th>\n",
       "    </tr>\n",
       "  </thead>\n",
       "  <tbody>\n",
       "    <tr>\n",
       "      <th>0</th>\n",
       "      <td>7129300520</td>\n",
       "      <td>20141013T000000</td>\n",
       "      <td>221900.0</td>\n",
       "      <td>3</td>\n",
       "      <td>1.00</td>\n",
       "      <td>1180</td>\n",
       "      <td>5650</td>\n",
       "      <td>1.0</td>\n",
       "      <td>0</td>\n",
       "      <td>0</td>\n",
       "      <td>...</td>\n",
       "      <td>7</td>\n",
       "      <td>1180</td>\n",
       "      <td>0</td>\n",
       "      <td>1955</td>\n",
       "      <td>0</td>\n",
       "      <td>98178</td>\n",
       "      <td>47.5112</td>\n",
       "      <td>-122.257</td>\n",
       "      <td>1340</td>\n",
       "      <td>5650</td>\n",
       "    </tr>\n",
       "    <tr>\n",
       "      <th>1</th>\n",
       "      <td>6414100192</td>\n",
       "      <td>20141209T000000</td>\n",
       "      <td>538000.0</td>\n",
       "      <td>3</td>\n",
       "      <td>2.25</td>\n",
       "      <td>2570</td>\n",
       "      <td>7242</td>\n",
       "      <td>2.0</td>\n",
       "      <td>0</td>\n",
       "      <td>0</td>\n",
       "      <td>...</td>\n",
       "      <td>7</td>\n",
       "      <td>2170</td>\n",
       "      <td>400</td>\n",
       "      <td>1951</td>\n",
       "      <td>1991</td>\n",
       "      <td>98125</td>\n",
       "      <td>47.7210</td>\n",
       "      <td>-122.319</td>\n",
       "      <td>1690</td>\n",
       "      <td>7639</td>\n",
       "    </tr>\n",
       "    <tr>\n",
       "      <th>2</th>\n",
       "      <td>5631500400</td>\n",
       "      <td>20150225T000000</td>\n",
       "      <td>180000.0</td>\n",
       "      <td>2</td>\n",
       "      <td>1.00</td>\n",
       "      <td>770</td>\n",
       "      <td>10000</td>\n",
       "      <td>1.0</td>\n",
       "      <td>0</td>\n",
       "      <td>0</td>\n",
       "      <td>...</td>\n",
       "      <td>6</td>\n",
       "      <td>770</td>\n",
       "      <td>0</td>\n",
       "      <td>1933</td>\n",
       "      <td>0</td>\n",
       "      <td>98028</td>\n",
       "      <td>47.7379</td>\n",
       "      <td>-122.233</td>\n",
       "      <td>2720</td>\n",
       "      <td>8062</td>\n",
       "    </tr>\n",
       "    <tr>\n",
       "      <th>3</th>\n",
       "      <td>2487200875</td>\n",
       "      <td>20141209T000000</td>\n",
       "      <td>604000.0</td>\n",
       "      <td>4</td>\n",
       "      <td>3.00</td>\n",
       "      <td>1960</td>\n",
       "      <td>5000</td>\n",
       "      <td>1.0</td>\n",
       "      <td>0</td>\n",
       "      <td>0</td>\n",
       "      <td>...</td>\n",
       "      <td>7</td>\n",
       "      <td>1050</td>\n",
       "      <td>910</td>\n",
       "      <td>1965</td>\n",
       "      <td>0</td>\n",
       "      <td>98136</td>\n",
       "      <td>47.5208</td>\n",
       "      <td>-122.393</td>\n",
       "      <td>1360</td>\n",
       "      <td>5000</td>\n",
       "    </tr>\n",
       "    <tr>\n",
       "      <th>4</th>\n",
       "      <td>1954400510</td>\n",
       "      <td>20150218T000000</td>\n",
       "      <td>510000.0</td>\n",
       "      <td>3</td>\n",
       "      <td>2.00</td>\n",
       "      <td>1680</td>\n",
       "      <td>8080</td>\n",
       "      <td>1.0</td>\n",
       "      <td>0</td>\n",
       "      <td>0</td>\n",
       "      <td>...</td>\n",
       "      <td>8</td>\n",
       "      <td>1680</td>\n",
       "      <td>0</td>\n",
       "      <td>1987</td>\n",
       "      <td>0</td>\n",
       "      <td>98074</td>\n",
       "      <td>47.6168</td>\n",
       "      <td>-122.045</td>\n",
       "      <td>1800</td>\n",
       "      <td>7503</td>\n",
       "    </tr>\n",
       "  </tbody>\n",
       "</table>\n",
       "<p>5 rows × 21 columns</p>\n",
       "</div>"
      ],
      "text/plain": [
       "           id             date     price  bedrooms  bathrooms  sqft_living  \\\n",
       "0  7129300520  20141013T000000  221900.0         3       1.00         1180   \n",
       "1  6414100192  20141209T000000  538000.0         3       2.25         2570   \n",
       "2  5631500400  20150225T000000  180000.0         2       1.00          770   \n",
       "3  2487200875  20141209T000000  604000.0         4       3.00         1960   \n",
       "4  1954400510  20150218T000000  510000.0         3       2.00         1680   \n",
       "\n",
       "   sqft_lot  floors  waterfront  view  ...  grade  sqft_above  sqft_basement  \\\n",
       "0      5650     1.0           0     0  ...      7        1180              0   \n",
       "1      7242     2.0           0     0  ...      7        2170            400   \n",
       "2     10000     1.0           0     0  ...      6         770              0   \n",
       "3      5000     1.0           0     0  ...      7        1050            910   \n",
       "4      8080     1.0           0     0  ...      8        1680              0   \n",
       "\n",
       "   yr_built  yr_renovated  zipcode      lat     long  sqft_living15  \\\n",
       "0      1955             0    98178  47.5112 -122.257           1340   \n",
       "1      1951          1991    98125  47.7210 -122.319           1690   \n",
       "2      1933             0    98028  47.7379 -122.233           2720   \n",
       "3      1965             0    98136  47.5208 -122.393           1360   \n",
       "4      1987             0    98074  47.6168 -122.045           1800   \n",
       "\n",
       "   sqft_lot15  \n",
       "0        5650  \n",
       "1        7639  \n",
       "2        8062  \n",
       "3        5000  \n",
       "4        7503  \n",
       "\n",
       "[5 rows x 21 columns]"
      ]
     },
     "execution_count": 4,
     "metadata": {},
     "output_type": "execute_result"
    }
   ],
   "source": [
    "data.head()"
   ]
  },
  {
   "cell_type": "code",
   "execution_count": 5,
   "id": "a9b1344a",
   "metadata": {
    "ExecuteTime": {
     "end_time": "2022-02-11T05:57:29.359074Z",
     "start_time": "2022-02-11T05:57:29.353604Z"
    }
   },
   "outputs": [
    {
     "data": {
      "text/plain": [
       "72854"
      ]
     },
     "execution_count": 5,
     "metadata": {},
     "output_type": "execute_result"
    }
   ],
   "source": [
    "data['bedrooms'].sum()"
   ]
  },
  {
   "cell_type": "code",
   "execution_count": 27,
   "id": "f03c511a",
   "metadata": {
    "ExecuteTime": {
     "end_time": "2022-02-11T06:04:06.362175Z",
     "start_time": "2022-02-11T06:04:06.354607Z"
    }
   },
   "outputs": [
    {
     "data": {
      "text/plain": [
       "2.0    1930\n",
       "Name: bathrooms, dtype: int64"
      ]
     },
     "execution_count": 27,
     "metadata": {},
     "output_type": "execute_result"
    }
   ],
   "source": [
    "data.loc[data['bathrooms'] == 2, 'bathrooms'].value_counts()"
   ]
  },
  {
   "cell_type": "code",
   "execution_count": 39,
   "id": "dd083b1d",
   "metadata": {
    "ExecuteTime": {
     "end_time": "2022-02-11T06:29:58.991603Z",
     "start_time": "2022-02-11T06:29:58.979736Z"
    }
   },
   "outputs": [
    {
     "data": {
      "text/plain": [
       "1930"
      ]
     },
     "execution_count": 39,
     "metadata": {},
     "output_type": "execute_result"
    }
   ],
   "source": [
    "len ( data.loc[data['bathrooms'] == 2, 'bathrooms'])"
   ]
  },
  {
   "cell_type": "code",
   "execution_count": 11,
   "id": "3a35ae2e",
   "metadata": {
    "ExecuteTime": {
     "end_time": "2022-02-11T05:58:35.387722Z",
     "start_time": "2022-02-11T05:58:35.382436Z"
    }
   },
   "outputs": [
    {
     "data": {
      "text/plain": [
       "540088.14"
      ]
     },
     "execution_count": 11,
     "metadata": {},
     "output_type": "execute_result"
    }
   ],
   "source": [
    "round(data['price'].mean(), 2)"
   ]
  },
  {
   "cell_type": "code",
   "execution_count": 24,
   "id": "f00e8944",
   "metadata": {
    "ExecuteTime": {
     "end_time": "2022-02-11T06:02:16.104065Z",
     "start_time": "2022-02-11T06:02:16.096814Z"
    }
   },
   "outputs": [
    {
     "data": {
      "text/plain": [
       "457889.72"
      ]
     },
     "execution_count": 24,
     "metadata": {},
     "output_type": "execute_result"
    }
   ],
   "source": [
    "round(data.loc[data['bathrooms'] == 2, 'price'].mean(), 2)"
   ]
  },
  {
   "cell_type": "code",
   "execution_count": 23,
   "id": "915f84fb",
   "metadata": {
    "ExecuteTime": {
     "end_time": "2022-02-11T06:02:05.510881Z",
     "start_time": "2022-02-11T06:02:05.503700Z"
    }
   },
   "outputs": [
    {
     "data": {
      "text/plain": [
       "466232.08"
      ]
     },
     "execution_count": 23,
     "metadata": {},
     "output_type": "execute_result"
    }
   ],
   "source": [
    "round(data.loc[data['bedrooms'] == 3, 'price'].mean(),  2)"
   ]
  },
  {
   "cell_type": "markdown",
   "id": "b6059a08",
   "metadata": {
    "ExecuteTime": {
     "end_time": "2022-02-11T06:08:45.557309Z",
     "start_time": "2022-02-11T06:08:45.550800Z"
    }
   },
   "source": [
    "6. Quantas casas possuem mais de 300 metros quadrados na sala de estar ? 3082\n",
    "\n",
    "7. Quantas casas tem mais de 2 andares ? 782\n",
    "\n",
    "8. Quantas casas tem vista para o mar ? 163\n",
    "\n",
    "9. Das casas com vista para o mar, quantas tem 3 quartos ? 64\n",
    "\n",
    "10. Das salas com mais de 300 metros na sala de estar, quantas tem mais de 2 banheiros ? 2978"
   ]
  },
  {
   "cell_type": "code",
   "execution_count": 32,
   "id": "3a6839a1",
   "metadata": {
    "ExecuteTime": {
     "end_time": "2022-02-11T06:10:53.862025Z",
     "start_time": "2022-02-11T06:10:53.850758Z"
    }
   },
   "outputs": [],
   "source": [
    "data['m2_living'] = data['sqft_living'].apply(lambda x: x / 10,764)"
   ]
  },
  {
   "cell_type": "code",
   "execution_count": 33,
   "id": "3d7145ae",
   "metadata": {
    "ExecuteTime": {
     "end_time": "2022-02-11T06:11:10.268064Z",
     "start_time": "2022-02-11T06:11:10.259125Z"
    }
   },
   "outputs": [
    {
     "data": {
      "text/plain": [
       "(3082, 22)"
      ]
     },
     "execution_count": 33,
     "metadata": {},
     "output_type": "execute_result"
    }
   ],
   "source": [
    "data[data['m2_living'] > 300].shape"
   ]
  },
  {
   "cell_type": "code",
   "execution_count": 40,
   "id": "37c3f007",
   "metadata": {
    "ExecuteTime": {
     "end_time": "2022-02-11T06:33:31.498612Z",
     "start_time": "2022-02-11T06:33:31.486920Z"
    }
   },
   "outputs": [
    {
     "data": {
      "text/plain": [
       "3082"
      ]
     },
     "execution_count": 40,
     "metadata": {},
     "output_type": "execute_result"
    }
   ],
   "source": [
    "len ( data.loc[data['m2_living'] > 300] )"
   ]
  },
  {
   "cell_type": "code",
   "execution_count": 34,
   "id": "13ca1ba0",
   "metadata": {
    "ExecuteTime": {
     "end_time": "2022-02-11T06:11:37.462682Z",
     "start_time": "2022-02-11T06:11:37.455777Z"
    }
   },
   "outputs": [
    {
     "data": {
      "text/plain": [
       "(782, 22)"
      ]
     },
     "execution_count": 34,
     "metadata": {},
     "output_type": "execute_result"
    }
   ],
   "source": [
    "data[data['floors'] > 2].shape"
   ]
  },
  {
   "cell_type": "code",
   "execution_count": 35,
   "id": "b40bebb9",
   "metadata": {
    "ExecuteTime": {
     "end_time": "2022-02-11T06:11:56.759084Z",
     "start_time": "2022-02-11T06:11:56.752698Z"
    }
   },
   "outputs": [
    {
     "data": {
      "text/plain": [
       "(163, 22)"
      ]
     },
     "execution_count": 35,
     "metadata": {},
     "output_type": "execute_result"
    }
   ],
   "source": [
    "data[data['waterfront'] == 1].shape"
   ]
  },
  {
   "cell_type": "code",
   "execution_count": 37,
   "id": "7f481286",
   "metadata": {
    "ExecuteTime": {
     "end_time": "2022-02-11T06:12:39.350101Z",
     "start_time": "2022-02-11T06:12:39.342802Z"
    }
   },
   "outputs": [
    {
     "data": {
      "text/plain": [
       "(64, 22)"
      ]
     },
     "execution_count": 37,
     "metadata": {},
     "output_type": "execute_result"
    }
   ],
   "source": [
    "data[(data['waterfront'] == 1) & (data['bedrooms'] == 3)].shape"
   ]
  },
  {
   "cell_type": "code",
   "execution_count": 38,
   "id": "7095e033",
   "metadata": {
    "ExecuteTime": {
     "end_time": "2022-02-11T06:13:22.536389Z",
     "start_time": "2022-02-11T06:13:22.527615Z"
    }
   },
   "outputs": [
    {
     "data": {
      "text/plain": [
       "(2978, 22)"
      ]
     },
     "execution_count": 38,
     "metadata": {},
     "output_type": "execute_result"
    }
   ],
   "source": [
    "data[(data['m2_living'] > 300) & (data['bathrooms'] > 2)].shape"
   ]
  },
  {
   "cell_type": "code",
   "execution_count": null,
   "id": "6a60cad2",
   "metadata": {},
   "outputs": [],
   "source": []
  }
 ],
 "metadata": {
  "kernelspec": {
   "display_name": "Python 3 (ipykernel)",
   "language": "python",
   "name": "python3"
  },
  "language_info": {
   "codemirror_mode": {
    "name": "ipython",
    "version": 3
   },
   "file_extension": ".py",
   "mimetype": "text/x-python",
   "name": "python",
   "nbconvert_exporter": "python",
   "pygments_lexer": "ipython3",
   "version": "3.9.1"
  },
  "toc": {
   "base_numbering": 1,
   "nav_menu": {},
   "number_sections": true,
   "sideBar": true,
   "skip_h1_title": false,
   "title_cell": "Table of Contents",
   "title_sidebar": "Contents",
   "toc_cell": false,
   "toc_position": {},
   "toc_section_display": true,
   "toc_window_display": false
  },
  "varInspector": {
   "cols": {
    "lenName": 16,
    "lenType": 16,
    "lenVar": 40
   },
   "kernels_config": {
    "python": {
     "delete_cmd_postfix": "",
     "delete_cmd_prefix": "del ",
     "library": "var_list.py",
     "varRefreshCmd": "print(var_dic_list())"
    },
    "r": {
     "delete_cmd_postfix": ") ",
     "delete_cmd_prefix": "rm(",
     "library": "var_list.r",
     "varRefreshCmd": "cat(var_dic_list()) "
    }
   },
   "types_to_exclude": [
    "module",
    "function",
    "builtin_function_or_method",
    "instance",
    "_Feature"
   ],
   "window_display": false
  }
 },
 "nbformat": 4,
 "nbformat_minor": 5
}
