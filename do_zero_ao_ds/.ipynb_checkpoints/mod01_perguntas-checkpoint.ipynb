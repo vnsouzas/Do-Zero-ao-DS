{
 "cells": [
  {
   "cell_type": "markdown",
   "id": "4b89aedc",
   "metadata": {},
   "source": [
    "# Perguntas a serem respondidas\n",
    "\n",
    "**1.** Quantas casas estão disponíveis para venda? R: 21613\n",
    "\n",
    "**2.** Quantos atributos as casas possuem? R: 21\n",
    "\n",
    "**3.** Quais são os atributos R: 'id', 'date', 'price', 'bedrooms', 'bathrooms', 'sqft_living',\n",
    "       'sqft_lot', 'floors', 'waterfront', 'view', 'condition', 'grade',\n",
    "       'sqft_above', 'sqft_basement', 'yr_built', 'yr_renovated', 'zipcode',\n",
    "       'lat', 'long', 'sqft_living15', 'sqft_lot15'\n",
    "\n",
    "**4.** Qual são as 10 casas mais caras e seus atributos ? ' 6762700020, 9808700762, 9208900037, 2470100110, 8907500070,\n",
    "       7558700030, 1247600105, 1924059029, 7738500731, 3835500195'. Médias: quartos -> 5.2 ; sqrt_living -> 8729.0 ; price -> 5663530.0 ; banheiros -> 5.75 \n",
    "       \n",
    "\n",
    "**5.** Qual a casa com maior número de quartos e qual seu preço ? casa: 2402100895 ; quartos: 33; preco: 640000.0\n",
    "\n",
    "**6.** Qual a porcentagem de casas que contém vista para o mar ? 99.25\n",
    "\n",
    "**7.** Faça um gráfico com o histórico de preço das casas se houver esses dados disponíveis\n",
    "\n",
    "**8.** Quais são as 5 casas mais baratas e quais são seus atributos ? 3421079032,   40000362, 8658300340, 3028200080, 3883800011,\n",
    "       1623049041, 7999600180, 1523049188, 1322049150, 2422049104. Médias: quartos -> 1.9 ; sqrt_living -> 733.0 ; price -> 81550.0 ; banheiros -> 0.875\n",
    "       \n",
    "**9.** Faça um gráfico de barrar comparando os atributos dos 10 imóveis mais caros com os 10 imíveis mais baratos"
   ]
  },
  {
   "cell_type": "code",
   "execution_count": 359,
   "id": "e5d1ca81",
   "metadata": {
    "ExecuteTime": {
     "end_time": "2022-02-11T05:24:22.969974Z",
     "start_time": "2022-02-11T05:24:22.964339Z"
    }
   },
   "outputs": [],
   "source": [
    "import pandas as pd\n",
    "import re\n",
    "import seaborn  as sns\n",
    "import matplotlib.pyplot as plt"
   ]
  },
  {
   "cell_type": "code",
   "execution_count": 360,
   "id": "8ee75473",
   "metadata": {
    "ExecuteTime": {
     "end_time": "2022-02-11T05:24:23.703562Z",
     "start_time": "2022-02-11T05:24:22.973078Z"
    }
   },
   "outputs": [],
   "source": [
    "pd.set_option('display.float_format', lambda x: '%.3f' % x)"
   ]
  },
  {
   "cell_type": "code",
   "execution_count": 361,
   "id": "9d07ed7f",
   "metadata": {
    "ExecuteTime": {
     "end_time": "2022-02-11T05:24:24.274261Z",
     "start_time": "2022-02-11T05:24:23.705738Z"
    }
   },
   "outputs": [],
   "source": [
    "data = pd.read_csv('./datasets/kc_house_data.csv')"
   ]
  },
  {
   "cell_type": "code",
   "execution_count": 362,
   "id": "7ad5dd23",
   "metadata": {
    "ExecuteTime": {
     "end_time": "2022-02-11T05:24:24.703226Z",
     "start_time": "2022-02-11T05:24:24.276727Z"
    }
   },
   "outputs": [
    {
     "data": {
      "text/html": [
       "<div>\n",
       "<style scoped>\n",
       "    .dataframe tbody tr th:only-of-type {\n",
       "        vertical-align: middle;\n",
       "    }\n",
       "\n",
       "    .dataframe tbody tr th {\n",
       "        vertical-align: top;\n",
       "    }\n",
       "\n",
       "    .dataframe thead th {\n",
       "        text-align: right;\n",
       "    }\n",
       "</style>\n",
       "<table border=\"1\" class=\"dataframe\">\n",
       "  <thead>\n",
       "    <tr style=\"text-align: right;\">\n",
       "      <th></th>\n",
       "      <th>id</th>\n",
       "      <th>date</th>\n",
       "      <th>price</th>\n",
       "      <th>bedrooms</th>\n",
       "      <th>bathrooms</th>\n",
       "      <th>sqft_living</th>\n",
       "      <th>sqft_lot</th>\n",
       "      <th>floors</th>\n",
       "      <th>waterfront</th>\n",
       "      <th>view</th>\n",
       "      <th>...</th>\n",
       "      <th>grade</th>\n",
       "      <th>sqft_above</th>\n",
       "      <th>sqft_basement</th>\n",
       "      <th>yr_built</th>\n",
       "      <th>yr_renovated</th>\n",
       "      <th>zipcode</th>\n",
       "      <th>lat</th>\n",
       "      <th>long</th>\n",
       "      <th>sqft_living15</th>\n",
       "      <th>sqft_lot15</th>\n",
       "    </tr>\n",
       "  </thead>\n",
       "  <tbody>\n",
       "    <tr>\n",
       "      <th>0</th>\n",
       "      <td>7129300520</td>\n",
       "      <td>20141013T000000</td>\n",
       "      <td>221900.000</td>\n",
       "      <td>3</td>\n",
       "      <td>1.000</td>\n",
       "      <td>1180</td>\n",
       "      <td>5650</td>\n",
       "      <td>1.000</td>\n",
       "      <td>0</td>\n",
       "      <td>0</td>\n",
       "      <td>...</td>\n",
       "      <td>7</td>\n",
       "      <td>1180</td>\n",
       "      <td>0</td>\n",
       "      <td>1955</td>\n",
       "      <td>0</td>\n",
       "      <td>98178</td>\n",
       "      <td>47.511</td>\n",
       "      <td>-122.257</td>\n",
       "      <td>1340</td>\n",
       "      <td>5650</td>\n",
       "    </tr>\n",
       "    <tr>\n",
       "      <th>1</th>\n",
       "      <td>6414100192</td>\n",
       "      <td>20141209T000000</td>\n",
       "      <td>538000.000</td>\n",
       "      <td>3</td>\n",
       "      <td>2.250</td>\n",
       "      <td>2570</td>\n",
       "      <td>7242</td>\n",
       "      <td>2.000</td>\n",
       "      <td>0</td>\n",
       "      <td>0</td>\n",
       "      <td>...</td>\n",
       "      <td>7</td>\n",
       "      <td>2170</td>\n",
       "      <td>400</td>\n",
       "      <td>1951</td>\n",
       "      <td>1991</td>\n",
       "      <td>98125</td>\n",
       "      <td>47.721</td>\n",
       "      <td>-122.319</td>\n",
       "      <td>1690</td>\n",
       "      <td>7639</td>\n",
       "    </tr>\n",
       "    <tr>\n",
       "      <th>2</th>\n",
       "      <td>5631500400</td>\n",
       "      <td>20150225T000000</td>\n",
       "      <td>180000.000</td>\n",
       "      <td>2</td>\n",
       "      <td>1.000</td>\n",
       "      <td>770</td>\n",
       "      <td>10000</td>\n",
       "      <td>1.000</td>\n",
       "      <td>0</td>\n",
       "      <td>0</td>\n",
       "      <td>...</td>\n",
       "      <td>6</td>\n",
       "      <td>770</td>\n",
       "      <td>0</td>\n",
       "      <td>1933</td>\n",
       "      <td>0</td>\n",
       "      <td>98028</td>\n",
       "      <td>47.738</td>\n",
       "      <td>-122.233</td>\n",
       "      <td>2720</td>\n",
       "      <td>8062</td>\n",
       "    </tr>\n",
       "    <tr>\n",
       "      <th>3</th>\n",
       "      <td>2487200875</td>\n",
       "      <td>20141209T000000</td>\n",
       "      <td>604000.000</td>\n",
       "      <td>4</td>\n",
       "      <td>3.000</td>\n",
       "      <td>1960</td>\n",
       "      <td>5000</td>\n",
       "      <td>1.000</td>\n",
       "      <td>0</td>\n",
       "      <td>0</td>\n",
       "      <td>...</td>\n",
       "      <td>7</td>\n",
       "      <td>1050</td>\n",
       "      <td>910</td>\n",
       "      <td>1965</td>\n",
       "      <td>0</td>\n",
       "      <td>98136</td>\n",
       "      <td>47.521</td>\n",
       "      <td>-122.393</td>\n",
       "      <td>1360</td>\n",
       "      <td>5000</td>\n",
       "    </tr>\n",
       "    <tr>\n",
       "      <th>4</th>\n",
       "      <td>1954400510</td>\n",
       "      <td>20150218T000000</td>\n",
       "      <td>510000.000</td>\n",
       "      <td>3</td>\n",
       "      <td>2.000</td>\n",
       "      <td>1680</td>\n",
       "      <td>8080</td>\n",
       "      <td>1.000</td>\n",
       "      <td>0</td>\n",
       "      <td>0</td>\n",
       "      <td>...</td>\n",
       "      <td>8</td>\n",
       "      <td>1680</td>\n",
       "      <td>0</td>\n",
       "      <td>1987</td>\n",
       "      <td>0</td>\n",
       "      <td>98074</td>\n",
       "      <td>47.617</td>\n",
       "      <td>-122.045</td>\n",
       "      <td>1800</td>\n",
       "      <td>7503</td>\n",
       "    </tr>\n",
       "  </tbody>\n",
       "</table>\n",
       "<p>5 rows × 21 columns</p>\n",
       "</div>"
      ],
      "text/plain": [
       "           id             date      price  bedrooms  bathrooms  sqft_living  \\\n",
       "0  7129300520  20141013T000000 221900.000         3      1.000         1180   \n",
       "1  6414100192  20141209T000000 538000.000         3      2.250         2570   \n",
       "2  5631500400  20150225T000000 180000.000         2      1.000          770   \n",
       "3  2487200875  20141209T000000 604000.000         4      3.000         1960   \n",
       "4  1954400510  20150218T000000 510000.000         3      2.000         1680   \n",
       "\n",
       "   sqft_lot  floors  waterfront  view  ...  grade  sqft_above  sqft_basement  \\\n",
       "0      5650   1.000           0     0  ...      7        1180              0   \n",
       "1      7242   2.000           0     0  ...      7        2170            400   \n",
       "2     10000   1.000           0     0  ...      6         770              0   \n",
       "3      5000   1.000           0     0  ...      7        1050            910   \n",
       "4      8080   1.000           0     0  ...      8        1680              0   \n",
       "\n",
       "   yr_built  yr_renovated  zipcode    lat     long  sqft_living15  sqft_lot15  \n",
       "0      1955             0    98178 47.511 -122.257           1340        5650  \n",
       "1      1951          1991    98125 47.721 -122.319           1690        7639  \n",
       "2      1933             0    98028 47.738 -122.233           2720        8062  \n",
       "3      1965             0    98136 47.521 -122.393           1360        5000  \n",
       "4      1987             0    98074 47.617 -122.045           1800        7503  \n",
       "\n",
       "[5 rows x 21 columns]"
      ]
     },
     "execution_count": 362,
     "metadata": {},
     "output_type": "execute_result"
    }
   ],
   "source": [
    "data.head()"
   ]
  },
  {
   "cell_type": "code",
   "execution_count": 363,
   "id": "aa545345",
   "metadata": {
    "ExecuteTime": {
     "end_time": "2022-02-11T05:24:25.211837Z",
     "start_time": "2022-02-11T05:24:24.705231Z"
    }
   },
   "outputs": [
    {
     "data": {
      "text/plain": [
       "array([0, 1])"
      ]
     },
     "execution_count": 363,
     "metadata": {},
     "output_type": "execute_result"
    }
   ],
   "source": [
    "data['waterfront'].unique()"
   ]
  },
  {
   "cell_type": "code",
   "execution_count": 364,
   "id": "16070fad",
   "metadata": {
    "ExecuteTime": {
     "end_time": "2022-02-11T05:24:26.068892Z",
     "start_time": "2022-02-11T05:24:25.213697Z"
    }
   },
   "outputs": [],
   "source": [
    "# re.match('\\d+' , data['date'])\n",
    "\n",
    "data['date'] = data['date'].apply(lambda x: re.match('\\d+', x).group(0) if pd.notnull( x ) else x)"
   ]
  },
  {
   "cell_type": "code",
   "execution_count": 365,
   "id": "839d7470",
   "metadata": {
    "ExecuteTime": {
     "end_time": "2022-02-11T05:24:26.715253Z",
     "start_time": "2022-02-11T05:24:26.071340Z"
    }
   },
   "outputs": [],
   "source": [
    "data['date'] = pd.to_datetime(data['date'], format = '%Y-%m-%d')"
   ]
  },
  {
   "cell_type": "code",
   "execution_count": 366,
   "id": "a55102a6",
   "metadata": {
    "ExecuteTime": {
     "end_time": "2022-02-11T05:24:27.210475Z",
     "start_time": "2022-02-11T05:24:26.717419Z"
    }
   },
   "outputs": [
    {
     "data": {
      "text/plain": [
       "Index(['id', 'date', 'price', 'bedrooms', 'bathrooms', 'sqft_living',\n",
       "       'sqft_lot', 'floors', 'waterfront', 'view', 'condition', 'grade',\n",
       "       'sqft_above', 'sqft_basement', 'yr_built', 'yr_renovated', 'zipcode',\n",
       "       'lat', 'long', 'sqft_living15', 'sqft_lot15'],\n",
       "      dtype='object')"
      ]
     },
     "execution_count": 366,
     "metadata": {},
     "output_type": "execute_result"
    }
   ],
   "source": [
    "data.columns"
   ]
  },
  {
   "cell_type": "code",
   "execution_count": 367,
   "id": "0d59422d",
   "metadata": {
    "ExecuteTime": {
     "end_time": "2022-02-11T05:24:27.834606Z",
     "start_time": "2022-02-11T05:24:27.213422Z"
    }
   },
   "outputs": [],
   "source": [
    "top_five_houses = pd.DataFrame(data.sort_values(by = ['price'], ascending=False).head(10))"
   ]
  },
  {
   "cell_type": "code",
   "execution_count": 368,
   "id": "e766224d",
   "metadata": {
    "ExecuteTime": {
     "end_time": "2022-02-11T05:24:28.330643Z",
     "start_time": "2022-02-11T05:24:27.838842Z"
    }
   },
   "outputs": [
    {
     "data": {
      "text/html": [
       "<div>\n",
       "<style scoped>\n",
       "    .dataframe tbody tr th:only-of-type {\n",
       "        vertical-align: middle;\n",
       "    }\n",
       "\n",
       "    .dataframe tbody tr th {\n",
       "        vertical-align: top;\n",
       "    }\n",
       "\n",
       "    .dataframe thead th {\n",
       "        text-align: right;\n",
       "    }\n",
       "</style>\n",
       "<table border=\"1\" class=\"dataframe\">\n",
       "  <thead>\n",
       "    <tr style=\"text-align: right;\">\n",
       "      <th></th>\n",
       "      <th>id</th>\n",
       "      <th>date</th>\n",
       "      <th>price</th>\n",
       "      <th>bedrooms</th>\n",
       "      <th>bathrooms</th>\n",
       "      <th>sqft_living</th>\n",
       "      <th>sqft_lot</th>\n",
       "      <th>floors</th>\n",
       "      <th>waterfront</th>\n",
       "      <th>view</th>\n",
       "      <th>...</th>\n",
       "      <th>grade</th>\n",
       "      <th>sqft_above</th>\n",
       "      <th>sqft_basement</th>\n",
       "      <th>yr_built</th>\n",
       "      <th>yr_renovated</th>\n",
       "      <th>zipcode</th>\n",
       "      <th>lat</th>\n",
       "      <th>long</th>\n",
       "      <th>sqft_living15</th>\n",
       "      <th>sqft_lot15</th>\n",
       "    </tr>\n",
       "  </thead>\n",
       "  <tbody>\n",
       "    <tr>\n",
       "      <th>7252</th>\n",
       "      <td>6762700020</td>\n",
       "      <td>2014-10-13</td>\n",
       "      <td>7700000.000</td>\n",
       "      <td>6</td>\n",
       "      <td>8.000</td>\n",
       "      <td>12050</td>\n",
       "      <td>27600</td>\n",
       "      <td>2.500</td>\n",
       "      <td>0</td>\n",
       "      <td>3</td>\n",
       "      <td>...</td>\n",
       "      <td>13</td>\n",
       "      <td>8570</td>\n",
       "      <td>3480</td>\n",
       "      <td>1910</td>\n",
       "      <td>1987</td>\n",
       "      <td>98102</td>\n",
       "      <td>47.630</td>\n",
       "      <td>-122.323</td>\n",
       "      <td>3940</td>\n",
       "      <td>8800</td>\n",
       "    </tr>\n",
       "    <tr>\n",
       "      <th>3914</th>\n",
       "      <td>9808700762</td>\n",
       "      <td>2014-06-11</td>\n",
       "      <td>7062500.000</td>\n",
       "      <td>5</td>\n",
       "      <td>4.500</td>\n",
       "      <td>10040</td>\n",
       "      <td>37325</td>\n",
       "      <td>2.000</td>\n",
       "      <td>1</td>\n",
       "      <td>2</td>\n",
       "      <td>...</td>\n",
       "      <td>11</td>\n",
       "      <td>7680</td>\n",
       "      <td>2360</td>\n",
       "      <td>1940</td>\n",
       "      <td>2001</td>\n",
       "      <td>98004</td>\n",
       "      <td>47.650</td>\n",
       "      <td>-122.214</td>\n",
       "      <td>3930</td>\n",
       "      <td>25449</td>\n",
       "    </tr>\n",
       "    <tr>\n",
       "      <th>9254</th>\n",
       "      <td>9208900037</td>\n",
       "      <td>2014-09-19</td>\n",
       "      <td>6885000.000</td>\n",
       "      <td>6</td>\n",
       "      <td>7.750</td>\n",
       "      <td>9890</td>\n",
       "      <td>31374</td>\n",
       "      <td>2.000</td>\n",
       "      <td>0</td>\n",
       "      <td>4</td>\n",
       "      <td>...</td>\n",
       "      <td>13</td>\n",
       "      <td>8860</td>\n",
       "      <td>1030</td>\n",
       "      <td>2001</td>\n",
       "      <td>0</td>\n",
       "      <td>98039</td>\n",
       "      <td>47.630</td>\n",
       "      <td>-122.240</td>\n",
       "      <td>4540</td>\n",
       "      <td>42730</td>\n",
       "    </tr>\n",
       "    <tr>\n",
       "      <th>4411</th>\n",
       "      <td>2470100110</td>\n",
       "      <td>2014-08-04</td>\n",
       "      <td>5570000.000</td>\n",
       "      <td>5</td>\n",
       "      <td>5.750</td>\n",
       "      <td>9200</td>\n",
       "      <td>35069</td>\n",
       "      <td>2.000</td>\n",
       "      <td>0</td>\n",
       "      <td>0</td>\n",
       "      <td>...</td>\n",
       "      <td>13</td>\n",
       "      <td>6200</td>\n",
       "      <td>3000</td>\n",
       "      <td>2001</td>\n",
       "      <td>0</td>\n",
       "      <td>98039</td>\n",
       "      <td>47.629</td>\n",
       "      <td>-122.233</td>\n",
       "      <td>3560</td>\n",
       "      <td>24345</td>\n",
       "    </tr>\n",
       "    <tr>\n",
       "      <th>1448</th>\n",
       "      <td>8907500070</td>\n",
       "      <td>2015-04-13</td>\n",
       "      <td>5350000.000</td>\n",
       "      <td>5</td>\n",
       "      <td>5.000</td>\n",
       "      <td>8000</td>\n",
       "      <td>23985</td>\n",
       "      <td>2.000</td>\n",
       "      <td>0</td>\n",
       "      <td>4</td>\n",
       "      <td>...</td>\n",
       "      <td>12</td>\n",
       "      <td>6720</td>\n",
       "      <td>1280</td>\n",
       "      <td>2009</td>\n",
       "      <td>0</td>\n",
       "      <td>98004</td>\n",
       "      <td>47.623</td>\n",
       "      <td>-122.220</td>\n",
       "      <td>4600</td>\n",
       "      <td>21750</td>\n",
       "    </tr>\n",
       "    <tr>\n",
       "      <th>1315</th>\n",
       "      <td>7558700030</td>\n",
       "      <td>2015-04-13</td>\n",
       "      <td>5300000.000</td>\n",
       "      <td>6</td>\n",
       "      <td>6.000</td>\n",
       "      <td>7390</td>\n",
       "      <td>24829</td>\n",
       "      <td>2.000</td>\n",
       "      <td>1</td>\n",
       "      <td>4</td>\n",
       "      <td>...</td>\n",
       "      <td>12</td>\n",
       "      <td>5000</td>\n",
       "      <td>2390</td>\n",
       "      <td>1991</td>\n",
       "      <td>0</td>\n",
       "      <td>98040</td>\n",
       "      <td>47.563</td>\n",
       "      <td>-122.210</td>\n",
       "      <td>4320</td>\n",
       "      <td>24619</td>\n",
       "    </tr>\n",
       "    <tr>\n",
       "      <th>1164</th>\n",
       "      <td>1247600105</td>\n",
       "      <td>2014-10-20</td>\n",
       "      <td>5110800.000</td>\n",
       "      <td>5</td>\n",
       "      <td>5.250</td>\n",
       "      <td>8010</td>\n",
       "      <td>45517</td>\n",
       "      <td>2.000</td>\n",
       "      <td>1</td>\n",
       "      <td>4</td>\n",
       "      <td>...</td>\n",
       "      <td>12</td>\n",
       "      <td>5990</td>\n",
       "      <td>2020</td>\n",
       "      <td>1999</td>\n",
       "      <td>0</td>\n",
       "      <td>98033</td>\n",
       "      <td>47.677</td>\n",
       "      <td>-122.211</td>\n",
       "      <td>3430</td>\n",
       "      <td>26788</td>\n",
       "    </tr>\n",
       "    <tr>\n",
       "      <th>8092</th>\n",
       "      <td>1924059029</td>\n",
       "      <td>2014-06-17</td>\n",
       "      <td>4668000.000</td>\n",
       "      <td>5</td>\n",
       "      <td>6.750</td>\n",
       "      <td>9640</td>\n",
       "      <td>13068</td>\n",
       "      <td>1.000</td>\n",
       "      <td>1</td>\n",
       "      <td>4</td>\n",
       "      <td>...</td>\n",
       "      <td>12</td>\n",
       "      <td>4820</td>\n",
       "      <td>4820</td>\n",
       "      <td>1983</td>\n",
       "      <td>2009</td>\n",
       "      <td>98040</td>\n",
       "      <td>47.557</td>\n",
       "      <td>-122.210</td>\n",
       "      <td>3270</td>\n",
       "      <td>10454</td>\n",
       "    </tr>\n",
       "    <tr>\n",
       "      <th>2626</th>\n",
       "      <td>7738500731</td>\n",
       "      <td>2014-08-15</td>\n",
       "      <td>4500000.000</td>\n",
       "      <td>5</td>\n",
       "      <td>5.500</td>\n",
       "      <td>6640</td>\n",
       "      <td>40014</td>\n",
       "      <td>2.000</td>\n",
       "      <td>1</td>\n",
       "      <td>4</td>\n",
       "      <td>...</td>\n",
       "      <td>12</td>\n",
       "      <td>6350</td>\n",
       "      <td>290</td>\n",
       "      <td>2004</td>\n",
       "      <td>0</td>\n",
       "      <td>98155</td>\n",
       "      <td>47.749</td>\n",
       "      <td>-122.280</td>\n",
       "      <td>3030</td>\n",
       "      <td>23408</td>\n",
       "    </tr>\n",
       "    <tr>\n",
       "      <th>8638</th>\n",
       "      <td>3835500195</td>\n",
       "      <td>2014-06-18</td>\n",
       "      <td>4489000.000</td>\n",
       "      <td>4</td>\n",
       "      <td>3.000</td>\n",
       "      <td>6430</td>\n",
       "      <td>27517</td>\n",
       "      <td>2.000</td>\n",
       "      <td>0</td>\n",
       "      <td>0</td>\n",
       "      <td>...</td>\n",
       "      <td>12</td>\n",
       "      <td>6430</td>\n",
       "      <td>0</td>\n",
       "      <td>2001</td>\n",
       "      <td>0</td>\n",
       "      <td>98004</td>\n",
       "      <td>47.621</td>\n",
       "      <td>-122.219</td>\n",
       "      <td>3720</td>\n",
       "      <td>14592</td>\n",
       "    </tr>\n",
       "  </tbody>\n",
       "</table>\n",
       "<p>10 rows × 21 columns</p>\n",
       "</div>"
      ],
      "text/plain": [
       "              id       date       price  bedrooms  bathrooms  sqft_living  \\\n",
       "7252  6762700020 2014-10-13 7700000.000         6      8.000        12050   \n",
       "3914  9808700762 2014-06-11 7062500.000         5      4.500        10040   \n",
       "9254  9208900037 2014-09-19 6885000.000         6      7.750         9890   \n",
       "4411  2470100110 2014-08-04 5570000.000         5      5.750         9200   \n",
       "1448  8907500070 2015-04-13 5350000.000         5      5.000         8000   \n",
       "1315  7558700030 2015-04-13 5300000.000         6      6.000         7390   \n",
       "1164  1247600105 2014-10-20 5110800.000         5      5.250         8010   \n",
       "8092  1924059029 2014-06-17 4668000.000         5      6.750         9640   \n",
       "2626  7738500731 2014-08-15 4500000.000         5      5.500         6640   \n",
       "8638  3835500195 2014-06-18 4489000.000         4      3.000         6430   \n",
       "\n",
       "      sqft_lot  floors  waterfront  view  ...  grade  sqft_above  \\\n",
       "7252     27600   2.500           0     3  ...     13        8570   \n",
       "3914     37325   2.000           1     2  ...     11        7680   \n",
       "9254     31374   2.000           0     4  ...     13        8860   \n",
       "4411     35069   2.000           0     0  ...     13        6200   \n",
       "1448     23985   2.000           0     4  ...     12        6720   \n",
       "1315     24829   2.000           1     4  ...     12        5000   \n",
       "1164     45517   2.000           1     4  ...     12        5990   \n",
       "8092     13068   1.000           1     4  ...     12        4820   \n",
       "2626     40014   2.000           1     4  ...     12        6350   \n",
       "8638     27517   2.000           0     0  ...     12        6430   \n",
       "\n",
       "      sqft_basement  yr_built  yr_renovated  zipcode    lat     long  \\\n",
       "7252           3480      1910          1987    98102 47.630 -122.323   \n",
       "3914           2360      1940          2001    98004 47.650 -122.214   \n",
       "9254           1030      2001             0    98039 47.630 -122.240   \n",
       "4411           3000      2001             0    98039 47.629 -122.233   \n",
       "1448           1280      2009             0    98004 47.623 -122.220   \n",
       "1315           2390      1991             0    98040 47.563 -122.210   \n",
       "1164           2020      1999             0    98033 47.677 -122.211   \n",
       "8092           4820      1983          2009    98040 47.557 -122.210   \n",
       "2626            290      2004             0    98155 47.749 -122.280   \n",
       "8638              0      2001             0    98004 47.621 -122.219   \n",
       "\n",
       "      sqft_living15  sqft_lot15  \n",
       "7252           3940        8800  \n",
       "3914           3930       25449  \n",
       "9254           4540       42730  \n",
       "4411           3560       24345  \n",
       "1448           4600       21750  \n",
       "1315           4320       24619  \n",
       "1164           3430       26788  \n",
       "8092           3270       10454  \n",
       "2626           3030       23408  \n",
       "8638           3720       14592  \n",
       "\n",
       "[10 rows x 21 columns]"
      ]
     },
     "execution_count": 368,
     "metadata": {},
     "output_type": "execute_result"
    }
   ],
   "source": [
    "top_five_houses"
   ]
  },
  {
   "cell_type": "code",
   "execution_count": 369,
   "id": "e58bd042",
   "metadata": {
    "ExecuteTime": {
     "end_time": "2022-02-11T05:24:28.817416Z",
     "start_time": "2022-02-11T05:24:28.332730Z"
    }
   },
   "outputs": [
    {
     "data": {
      "text/plain": [
       "5.75"
      ]
     },
     "execution_count": 369,
     "metadata": {},
     "output_type": "execute_result"
    }
   ],
   "source": [
    "top_five_houses['bathrooms'].mean()"
   ]
  },
  {
   "cell_type": "code",
   "execution_count": 370,
   "id": "486fdf25",
   "metadata": {
    "ExecuteTime": {
     "end_time": "2022-02-11T05:24:29.631528Z",
     "start_time": "2022-02-11T05:24:28.819422Z"
    }
   },
   "outputs": [
    {
     "data": {
      "text/plain": [
       "5663530.0"
      ]
     },
     "execution_count": 370,
     "metadata": {},
     "output_type": "execute_result"
    }
   ],
   "source": [
    "top_five_houses['price'].mean()"
   ]
  },
  {
   "cell_type": "code",
   "execution_count": 371,
   "id": "95a03b8a",
   "metadata": {
    "ExecuteTime": {
     "end_time": "2022-02-11T05:24:30.152400Z",
     "start_time": "2022-02-11T05:24:29.633614Z"
    }
   },
   "outputs": [
    {
     "data": {
      "text/plain": [
       "8729.0"
      ]
     },
     "execution_count": 371,
     "metadata": {},
     "output_type": "execute_result"
    }
   ],
   "source": [
    "top_five_houses['sqft_living'].mean()"
   ]
  },
  {
   "cell_type": "code",
   "execution_count": 372,
   "id": "f946f223",
   "metadata": {
    "ExecuteTime": {
     "end_time": "2022-02-11T05:24:30.695277Z",
     "start_time": "2022-02-11T05:24:30.154437Z"
    }
   },
   "outputs": [
    {
     "data": {
      "text/plain": [
       "5.2"
      ]
     },
     "execution_count": 372,
     "metadata": {},
     "output_type": "execute_result"
    }
   ],
   "source": [
    "top_five_houses['bedrooms'].mean()"
   ]
  },
  {
   "cell_type": "code",
   "execution_count": 373,
   "id": "c9d0fbce",
   "metadata": {
    "ExecuteTime": {
     "end_time": "2022-02-11T05:24:31.160980Z",
     "start_time": "2022-02-11T05:24:30.697331Z"
    }
   },
   "outputs": [
    {
     "data": {
      "text/plain": [
       "array([6762700020, 9808700762, 9208900037, 2470100110, 8907500070,\n",
       "       7558700030, 1247600105, 1924059029, 7738500731, 3835500195])"
      ]
     },
     "execution_count": 373,
     "metadata": {},
     "output_type": "execute_result"
    }
   ],
   "source": [
    "top_five_houses['id'].unique()"
   ]
  },
  {
   "cell_type": "code",
   "execution_count": 374,
   "id": "ded1938a",
   "metadata": {
    "ExecuteTime": {
     "end_time": "2022-02-11T05:24:31.820564Z",
     "start_time": "2022-02-11T05:24:31.163058Z"
    }
   },
   "outputs": [
    {
     "data": {
      "text/html": [
       "<div>\n",
       "<style scoped>\n",
       "    .dataframe tbody tr th:only-of-type {\n",
       "        vertical-align: middle;\n",
       "    }\n",
       "\n",
       "    .dataframe tbody tr th {\n",
       "        vertical-align: top;\n",
       "    }\n",
       "\n",
       "    .dataframe thead th {\n",
       "        text-align: right;\n",
       "    }\n",
       "</style>\n",
       "<table border=\"1\" class=\"dataframe\">\n",
       "  <thead>\n",
       "    <tr style=\"text-align: right;\">\n",
       "      <th></th>\n",
       "      <th>id</th>\n",
       "      <th>bedrooms</th>\n",
       "      <th>price</th>\n",
       "    </tr>\n",
       "  </thead>\n",
       "  <tbody>\n",
       "    <tr>\n",
       "      <th>15870</th>\n",
       "      <td>2402100895</td>\n",
       "      <td>33</td>\n",
       "      <td>640000.000</td>\n",
       "    </tr>\n",
       "  </tbody>\n",
       "</table>\n",
       "</div>"
      ],
      "text/plain": [
       "               id  bedrooms      price\n",
       "15870  2402100895        33 640000.000"
      ]
     },
     "execution_count": 374,
     "metadata": {},
     "output_type": "execute_result"
    }
   ],
   "source": [
    "data.loc[data['bedrooms'] == data['bedrooms'].max(), ['id', 'bedrooms', 'price']]"
   ]
  },
  {
   "cell_type": "code",
   "execution_count": 375,
   "id": "d5be525e",
   "metadata": {
    "ExecuteTime": {
     "end_time": "2022-02-11T05:24:32.283243Z",
     "start_time": "2022-02-11T05:24:31.822713Z"
    }
   },
   "outputs": [
    {
     "data": {
      "text/plain": [
       "0    21450\n",
       "1      163\n",
       "Name: waterfront, dtype: int64"
      ]
     },
     "execution_count": 375,
     "metadata": {},
     "output_type": "execute_result"
    }
   ],
   "source": [
    "data['waterfront'].value_counts()"
   ]
  },
  {
   "cell_type": "code",
   "execution_count": 376,
   "id": "e338b7ee",
   "metadata": {
    "ExecuteTime": {
     "end_time": "2022-02-11T05:24:32.790891Z",
     "start_time": "2022-02-11T05:24:32.285400Z"
    }
   },
   "outputs": [],
   "source": [
    "waterfront_percentage = data['waterfront'].value_counts() / len(data) * 100"
   ]
  },
  {
   "cell_type": "code",
   "execution_count": 377,
   "id": "8eca06c1",
   "metadata": {
    "ExecuteTime": {
     "end_time": "2022-02-11T05:24:33.257112Z",
     "start_time": "2022-02-11T05:24:32.792954Z"
    }
   },
   "outputs": [
    {
     "data": {
      "text/plain": [
       "99.25"
      ]
     },
     "execution_count": 377,
     "metadata": {},
     "output_type": "execute_result"
    }
   ],
   "source": [
    "round(waterfront_percentage[0], 2)"
   ]
  },
  {
   "cell_type": "code",
   "execution_count": 378,
   "id": "2472ccb5",
   "metadata": {
    "ExecuteTime": {
     "end_time": "2022-02-11T05:24:33.777291Z",
     "start_time": "2022-02-11T05:24:33.259135Z"
    }
   },
   "outputs": [
    {
     "data": {
      "text/plain": [
       "0.75"
      ]
     },
     "execution_count": 378,
     "metadata": {},
     "output_type": "execute_result"
    }
   ],
   "source": [
    "round(waterfront_percentage[1], 2)"
   ]
  },
  {
   "cell_type": "code",
   "execution_count": 379,
   "id": "57ae7914",
   "metadata": {
    "ExecuteTime": {
     "end_time": "2022-02-11T05:24:34.266028Z",
     "start_time": "2022-02-11T05:24:33.779254Z"
    }
   },
   "outputs": [],
   "source": [
    "not_renovated = data[data['yr_renovated'] == 0]"
   ]
  },
  {
   "cell_type": "code",
   "execution_count": 380,
   "id": "31b1a8f6",
   "metadata": {
    "ExecuteTime": {
     "end_time": "2022-02-11T05:24:34.829702Z",
     "start_time": "2022-02-11T05:24:34.268016Z"
    }
   },
   "outputs": [],
   "source": [
    "sns.set(rc={'figure.figsize':(30,10)})"
   ]
  },
  {
   "cell_type": "code",
   "execution_count": 381,
   "id": "fe0684da",
   "metadata": {
    "ExecuteTime": {
     "end_time": "2022-02-11T05:24:35.518574Z",
     "start_time": "2022-02-11T05:24:34.831706Z"
    }
   },
   "outputs": [
    {
     "data": {
      "text/plain": [
       "<AxesSubplot:xlabel='yr_built', ylabel='price'>"
      ]
     },
     "execution_count": 381,
     "metadata": {},
     "output_type": "execute_result"
    },
    {
     "data": {
      "image/png": "[encoded data removed]",
      "text/plain": [
       "<Figure size 2160x720 with 1 Axes>"
      ]
     },
     "metadata": {},
     "output_type": "display_data"
    }
   ],
   "source": [
    "sns.lineplot(x = 'yr_built', y='price', data=not_renovated, ci=None)"
   ]
  },
  {
   "cell_type": "code",
   "execution_count": 382,
   "id": "1e72e7e3",
   "metadata": {
    "ExecuteTime": {
     "end_time": "2022-02-11T05:24:35.818392Z",
     "start_time": "2022-02-11T05:24:35.520305Z"
    }
   },
   "outputs": [],
   "source": [
    "ten_cheapest_houses = data.sort_values(by='price').head(10)"
   ]
  },
  {
   "cell_type": "code",
   "execution_count": 383,
   "id": "41194685",
   "metadata": {
    "ExecuteTime": {
     "end_time": "2022-02-11T05:24:36.426125Z",
     "start_time": "2022-02-11T05:24:35.820522Z"
    }
   },
   "outputs": [
    {
     "data": {
      "text/plain": [
       "array([3421079032,   40000362, 8658300340, 3028200080, 3883800011,\n",
       "       1623049041, 7999600180, 1523049188, 1322049150, 2422049104])"
      ]
     },
     "execution_count": 383,
     "metadata": {},
     "output_type": "execute_result"
    }
   ],
   "source": [
    "ten_cheapest_houses['id'].unique()"
   ]
  },
  {
   "cell_type": "code",
   "execution_count": 384,
   "id": "749bf1a0",
   "metadata": {
    "ExecuteTime": {
     "end_time": "2022-02-11T05:24:36.946129Z",
     "start_time": "2022-02-11T05:24:36.428584Z"
    }
   },
   "outputs": [
    {
     "data": {
      "text/plain": [
       "0.875"
      ]
     },
     "execution_count": 384,
     "metadata": {},
     "output_type": "execute_result"
    }
   ],
   "source": [
    "ten_cheapest_houses['bathrooms'].mean()"
   ]
  },
  {
   "cell_type": "code",
   "execution_count": 385,
   "id": "9164a6bb",
   "metadata": {
    "ExecuteTime": {
     "end_time": "2022-02-11T05:24:37.625386Z",
     "start_time": "2022-02-11T05:24:36.948080Z"
    }
   },
   "outputs": [
    {
     "data": {
      "text/plain": [
       "733.0"
      ]
     },
     "execution_count": 385,
     "metadata": {},
     "output_type": "execute_result"
    }
   ],
   "source": [
    "ten_cheapest_houses['sqft_living'].mean()"
   ]
  },
  {
   "cell_type": "code",
   "execution_count": 386,
   "id": "554a549f",
   "metadata": {
    "ExecuteTime": {
     "end_time": "2022-02-11T05:24:38.182835Z",
     "start_time": "2022-02-11T05:24:37.631138Z"
    }
   },
   "outputs": [
    {
     "data": {
      "text/plain": [
       "1.9"
      ]
     },
     "execution_count": 386,
     "metadata": {},
     "output_type": "execute_result"
    }
   ],
   "source": [
    "ten_cheapest_houses['bedrooms'].mean()"
   ]
  },
  {
   "cell_type": "code",
   "execution_count": 387,
   "id": "0a85c2cc",
   "metadata": {
    "ExecuteTime": {
     "end_time": "2022-02-11T05:24:38.658674Z",
     "start_time": "2022-02-11T05:24:38.184780Z"
    }
   },
   "outputs": [
    {
     "data": {
      "text/plain": [
       "81550.0"
      ]
     },
     "execution_count": 387,
     "metadata": {},
     "output_type": "execute_result"
    }
   ],
   "source": [
    "ten_cheapest_houses['price'].mean()"
   ]
  },
  {
   "cell_type": "code",
   "execution_count": 388,
   "id": "06198493",
   "metadata": {
    "ExecuteTime": {
     "end_time": "2022-02-11T05:24:39.060726Z",
     "start_time": "2022-02-11T05:24:38.660364Z"
    }
   },
   "outputs": [
    {
     "data": {
      "text/html": [
       "<div>\n",
       "<style scoped>\n",
       "    .dataframe tbody tr th:only-of-type {\n",
       "        vertical-align: middle;\n",
       "    }\n",
       "\n",
       "    .dataframe tbody tr th {\n",
       "        vertical-align: top;\n",
       "    }\n",
       "\n",
       "    .dataframe thead th {\n",
       "        text-align: right;\n",
       "    }\n",
       "</style>\n",
       "<table border=\"1\" class=\"dataframe\">\n",
       "  <thead>\n",
       "    <tr style=\"text-align: right;\">\n",
       "      <th></th>\n",
       "      <th>id</th>\n",
       "      <th>date</th>\n",
       "      <th>price</th>\n",
       "      <th>bedrooms</th>\n",
       "      <th>bathrooms</th>\n",
       "      <th>sqft_living</th>\n",
       "      <th>sqft_lot</th>\n",
       "      <th>floors</th>\n",
       "      <th>waterfront</th>\n",
       "      <th>view</th>\n",
       "      <th>...</th>\n",
       "      <th>grade</th>\n",
       "      <th>sqft_above</th>\n",
       "      <th>sqft_basement</th>\n",
       "      <th>yr_built</th>\n",
       "      <th>yr_renovated</th>\n",
       "      <th>zipcode</th>\n",
       "      <th>lat</th>\n",
       "      <th>long</th>\n",
       "      <th>sqft_living15</th>\n",
       "      <th>sqft_lot15</th>\n",
       "    </tr>\n",
       "  </thead>\n",
       "  <tbody>\n",
       "    <tr>\n",
       "      <th>1149</th>\n",
       "      <td>3421079032</td>\n",
       "      <td>2015-02-17</td>\n",
       "      <td>75000.000</td>\n",
       "      <td>1</td>\n",
       "      <td>0.000</td>\n",
       "      <td>670</td>\n",
       "      <td>43377</td>\n",
       "      <td>1.000</td>\n",
       "      <td>0</td>\n",
       "      <td>0</td>\n",
       "      <td>...</td>\n",
       "      <td>3</td>\n",
       "      <td>670</td>\n",
       "      <td>0</td>\n",
       "      <td>1966</td>\n",
       "      <td>0</td>\n",
       "      <td>98022</td>\n",
       "      <td>47.264</td>\n",
       "      <td>-121.906</td>\n",
       "      <td>1160</td>\n",
       "      <td>42882</td>\n",
       "    </tr>\n",
       "    <tr>\n",
       "      <th>15293</th>\n",
       "      <td>40000362</td>\n",
       "      <td>2014-05-06</td>\n",
       "      <td>78000.000</td>\n",
       "      <td>2</td>\n",
       "      <td>1.000</td>\n",
       "      <td>780</td>\n",
       "      <td>16344</td>\n",
       "      <td>1.000</td>\n",
       "      <td>0</td>\n",
       "      <td>0</td>\n",
       "      <td>...</td>\n",
       "      <td>5</td>\n",
       "      <td>780</td>\n",
       "      <td>0</td>\n",
       "      <td>1942</td>\n",
       "      <td>0</td>\n",
       "      <td>98168</td>\n",
       "      <td>47.474</td>\n",
       "      <td>-122.280</td>\n",
       "      <td>1700</td>\n",
       "      <td>10387</td>\n",
       "    </tr>\n",
       "    <tr>\n",
       "      <th>465</th>\n",
       "      <td>8658300340</td>\n",
       "      <td>2014-05-23</td>\n",
       "      <td>80000.000</td>\n",
       "      <td>1</td>\n",
       "      <td>0.750</td>\n",
       "      <td>430</td>\n",
       "      <td>5050</td>\n",
       "      <td>1.000</td>\n",
       "      <td>0</td>\n",
       "      <td>0</td>\n",
       "      <td>...</td>\n",
       "      <td>4</td>\n",
       "      <td>430</td>\n",
       "      <td>0</td>\n",
       "      <td>1912</td>\n",
       "      <td>0</td>\n",
       "      <td>98014</td>\n",
       "      <td>47.650</td>\n",
       "      <td>-121.909</td>\n",
       "      <td>1200</td>\n",
       "      <td>7500</td>\n",
       "    </tr>\n",
       "    <tr>\n",
       "      <th>16198</th>\n",
       "      <td>3028200080</td>\n",
       "      <td>2015-03-24</td>\n",
       "      <td>81000.000</td>\n",
       "      <td>2</td>\n",
       "      <td>1.000</td>\n",
       "      <td>730</td>\n",
       "      <td>9975</td>\n",
       "      <td>1.000</td>\n",
       "      <td>0</td>\n",
       "      <td>0</td>\n",
       "      <td>...</td>\n",
       "      <td>5</td>\n",
       "      <td>730</td>\n",
       "      <td>0</td>\n",
       "      <td>1943</td>\n",
       "      <td>0</td>\n",
       "      <td>98168</td>\n",
       "      <td>47.481</td>\n",
       "      <td>-122.315</td>\n",
       "      <td>860</td>\n",
       "      <td>9000</td>\n",
       "    </tr>\n",
       "    <tr>\n",
       "      <th>8274</th>\n",
       "      <td>3883800011</td>\n",
       "      <td>2014-11-05</td>\n",
       "      <td>82000.000</td>\n",
       "      <td>3</td>\n",
       "      <td>1.000</td>\n",
       "      <td>860</td>\n",
       "      <td>10426</td>\n",
       "      <td>1.000</td>\n",
       "      <td>0</td>\n",
       "      <td>0</td>\n",
       "      <td>...</td>\n",
       "      <td>6</td>\n",
       "      <td>860</td>\n",
       "      <td>0</td>\n",
       "      <td>1954</td>\n",
       "      <td>0</td>\n",
       "      <td>98146</td>\n",
       "      <td>47.499</td>\n",
       "      <td>-122.341</td>\n",
       "      <td>1140</td>\n",
       "      <td>11250</td>\n",
       "    </tr>\n",
       "  </tbody>\n",
       "</table>\n",
       "<p>5 rows × 21 columns</p>\n",
       "</div>"
      ],
      "text/plain": [
       "               id       date     price  bedrooms  bathrooms  sqft_living  \\\n",
       "1149   3421079032 2015-02-17 75000.000         1      0.000          670   \n",
       "15293    40000362 2014-05-06 78000.000         2      1.000          780   \n",
       "465    8658300340 2014-05-23 80000.000         1      0.750          430   \n",
       "16198  3028200080 2015-03-24 81000.000         2      1.000          730   \n",
       "8274   3883800011 2014-11-05 82000.000         3      1.000          860   \n",
       "\n",
       "       sqft_lot  floors  waterfront  view  ...  grade  sqft_above  \\\n",
       "1149      43377   1.000           0     0  ...      3         670   \n",
       "15293     16344   1.000           0     0  ...      5         780   \n",
       "465        5050   1.000           0     0  ...      4         430   \n",
       "16198      9975   1.000           0     0  ...      5         730   \n",
       "8274      10426   1.000           0     0  ...      6         860   \n",
       "\n",
       "       sqft_basement  yr_built  yr_renovated  zipcode    lat     long  \\\n",
       "1149               0      1966             0    98022 47.264 -121.906   \n",
       "15293              0      1942             0    98168 47.474 -122.280   \n",
       "465                0      1912             0    98014 47.650 -121.909   \n",
       "16198              0      1943             0    98168 47.481 -122.315   \n",
       "8274               0      1954             0    98146 47.499 -122.341   \n",
       "\n",
       "       sqft_living15  sqft_lot15  \n",
       "1149            1160       42882  \n",
       "15293           1700       10387  \n",
       "465             1200        7500  \n",
       "16198            860        9000  \n",
       "8274            1140       11250  \n",
       "\n",
       "[5 rows x 21 columns]"
      ]
     },
     "execution_count": 388,
     "metadata": {},
     "output_type": "execute_result"
    }
   ],
   "source": [
    "ten_cheapest_houses.head()"
   ]
  },
  {
   "cell_type": "code",
   "execution_count": 389,
   "id": "eb6e3bf0",
   "metadata": {
    "ExecuteTime": {
     "end_time": "2022-02-11T05:24:39.561567Z",
     "start_time": "2022-02-11T05:24:39.062569Z"
    }
   },
   "outputs": [
    {
     "data": {
      "text/html": [
       "<div>\n",
       "<style scoped>\n",
       "    .dataframe tbody tr th:only-of-type {\n",
       "        vertical-align: middle;\n",
       "    }\n",
       "\n",
       "    .dataframe tbody tr th {\n",
       "        vertical-align: top;\n",
       "    }\n",
       "\n",
       "    .dataframe thead th {\n",
       "        text-align: right;\n",
       "    }\n",
       "</style>\n",
       "<table border=\"1\" class=\"dataframe\">\n",
       "  <thead>\n",
       "    <tr style=\"text-align: right;\">\n",
       "      <th></th>\n",
       "      <th>id</th>\n",
       "      <th>date</th>\n",
       "      <th>price</th>\n",
       "      <th>bedrooms</th>\n",
       "      <th>bathrooms</th>\n",
       "      <th>sqft_living</th>\n",
       "      <th>sqft_lot</th>\n",
       "      <th>floors</th>\n",
       "      <th>waterfront</th>\n",
       "      <th>view</th>\n",
       "      <th>...</th>\n",
       "      <th>grade</th>\n",
       "      <th>sqft_above</th>\n",
       "      <th>sqft_basement</th>\n",
       "      <th>yr_built</th>\n",
       "      <th>yr_renovated</th>\n",
       "      <th>zipcode</th>\n",
       "      <th>lat</th>\n",
       "      <th>long</th>\n",
       "      <th>sqft_living15</th>\n",
       "      <th>sqft_lot15</th>\n",
       "    </tr>\n",
       "  </thead>\n",
       "  <tbody>\n",
       "    <tr>\n",
       "      <th>7252</th>\n",
       "      <td>6762700020</td>\n",
       "      <td>2014-10-13</td>\n",
       "      <td>7700000.000</td>\n",
       "      <td>6</td>\n",
       "      <td>8.000</td>\n",
       "      <td>12050</td>\n",
       "      <td>27600</td>\n",
       "      <td>2.500</td>\n",
       "      <td>0</td>\n",
       "      <td>3</td>\n",
       "      <td>...</td>\n",
       "      <td>13</td>\n",
       "      <td>8570</td>\n",
       "      <td>3480</td>\n",
       "      <td>1910</td>\n",
       "      <td>1987</td>\n",
       "      <td>98102</td>\n",
       "      <td>47.630</td>\n",
       "      <td>-122.323</td>\n",
       "      <td>3940</td>\n",
       "      <td>8800</td>\n",
       "    </tr>\n",
       "    <tr>\n",
       "      <th>3914</th>\n",
       "      <td>9808700762</td>\n",
       "      <td>2014-06-11</td>\n",
       "      <td>7062500.000</td>\n",
       "      <td>5</td>\n",
       "      <td>4.500</td>\n",
       "      <td>10040</td>\n",
       "      <td>37325</td>\n",
       "      <td>2.000</td>\n",
       "      <td>1</td>\n",
       "      <td>2</td>\n",
       "      <td>...</td>\n",
       "      <td>11</td>\n",
       "      <td>7680</td>\n",
       "      <td>2360</td>\n",
       "      <td>1940</td>\n",
       "      <td>2001</td>\n",
       "      <td>98004</td>\n",
       "      <td>47.650</td>\n",
       "      <td>-122.214</td>\n",
       "      <td>3930</td>\n",
       "      <td>25449</td>\n",
       "    </tr>\n",
       "    <tr>\n",
       "      <th>9254</th>\n",
       "      <td>9208900037</td>\n",
       "      <td>2014-09-19</td>\n",
       "      <td>6885000.000</td>\n",
       "      <td>6</td>\n",
       "      <td>7.750</td>\n",
       "      <td>9890</td>\n",
       "      <td>31374</td>\n",
       "      <td>2.000</td>\n",
       "      <td>0</td>\n",
       "      <td>4</td>\n",
       "      <td>...</td>\n",
       "      <td>13</td>\n",
       "      <td>8860</td>\n",
       "      <td>1030</td>\n",
       "      <td>2001</td>\n",
       "      <td>0</td>\n",
       "      <td>98039</td>\n",
       "      <td>47.630</td>\n",
       "      <td>-122.240</td>\n",
       "      <td>4540</td>\n",
       "      <td>42730</td>\n",
       "    </tr>\n",
       "    <tr>\n",
       "      <th>4411</th>\n",
       "      <td>2470100110</td>\n",
       "      <td>2014-08-04</td>\n",
       "      <td>5570000.000</td>\n",
       "      <td>5</td>\n",
       "      <td>5.750</td>\n",
       "      <td>9200</td>\n",
       "      <td>35069</td>\n",
       "      <td>2.000</td>\n",
       "      <td>0</td>\n",
       "      <td>0</td>\n",
       "      <td>...</td>\n",
       "      <td>13</td>\n",
       "      <td>6200</td>\n",
       "      <td>3000</td>\n",
       "      <td>2001</td>\n",
       "      <td>0</td>\n",
       "      <td>98039</td>\n",
       "      <td>47.629</td>\n",
       "      <td>-122.233</td>\n",
       "      <td>3560</td>\n",
       "      <td>24345</td>\n",
       "    </tr>\n",
       "    <tr>\n",
       "      <th>1448</th>\n",
       "      <td>8907500070</td>\n",
       "      <td>2015-04-13</td>\n",
       "      <td>5350000.000</td>\n",
       "      <td>5</td>\n",
       "      <td>5.000</td>\n",
       "      <td>8000</td>\n",
       "      <td>23985</td>\n",
       "      <td>2.000</td>\n",
       "      <td>0</td>\n",
       "      <td>4</td>\n",
       "      <td>...</td>\n",
       "      <td>12</td>\n",
       "      <td>6720</td>\n",
       "      <td>1280</td>\n",
       "      <td>2009</td>\n",
       "      <td>0</td>\n",
       "      <td>98004</td>\n",
       "      <td>47.623</td>\n",
       "      <td>-122.220</td>\n",
       "      <td>4600</td>\n",
       "      <td>21750</td>\n",
       "    </tr>\n",
       "  </tbody>\n",
       "</table>\n",
       "<p>5 rows × 21 columns</p>\n",
       "</div>"
      ],
      "text/plain": [
       "              id       date       price  bedrooms  bathrooms  sqft_living  \\\n",
       "7252  6762700020 2014-10-13 7700000.000         6      8.000        12050   \n",
       "3914  9808700762 2014-06-11 7062500.000         5      4.500        10040   \n",
       "9254  9208900037 2014-09-19 6885000.000         6      7.750         9890   \n",
       "4411  2470100110 2014-08-04 5570000.000         5      5.750         9200   \n",
       "1448  8907500070 2015-04-13 5350000.000         5      5.000         8000   \n",
       "\n",
       "      sqft_lot  floors  waterfront  view  ...  grade  sqft_above  \\\n",
       "7252     27600   2.500           0     3  ...     13        8570   \n",
       "3914     37325   2.000           1     2  ...     11        7680   \n",
       "9254     31374   2.000           0     4  ...     13        8860   \n",
       "4411     35069   2.000           0     0  ...     13        6200   \n",
       "1448     23985   2.000           0     4  ...     12        6720   \n",
       "\n",
       "      sqft_basement  yr_built  yr_renovated  zipcode    lat     long  \\\n",
       "7252           3480      1910          1987    98102 47.630 -122.323   \n",
       "3914           2360      1940          2001    98004 47.650 -122.214   \n",
       "9254           1030      2001             0    98039 47.630 -122.240   \n",
       "4411           3000      2001             0    98039 47.629 -122.233   \n",
       "1448           1280      2009             0    98004 47.623 -122.220   \n",
       "\n",
       "      sqft_living15  sqft_lot15  \n",
       "7252           3940        8800  \n",
       "3914           3930       25449  \n",
       "9254           4540       42730  \n",
       "4411           3560       24345  \n",
       "1448           4600       21750  \n",
       "\n",
       "[5 rows x 21 columns]"
      ]
     },
     "execution_count": 389,
     "metadata": {},
     "output_type": "execute_result"
    }
   ],
   "source": [
    "top_five_houses.head()"
   ]
  },
  {
   "cell_type": "code",
   "execution_count": 390,
   "id": "42f09599",
   "metadata": {
    "ExecuteTime": {
     "end_time": "2022-02-11T05:24:40.355213Z",
     "start_time": "2022-02-11T05:24:39.563869Z"
    }
   },
   "outputs": [],
   "source": [
    "top_houses_mean = pd.DataFrame(index= ['bedrooms', 'price', 'sqft_living', 'bathrooms', 'year_built', 'floors', 'grade'],data=[top_five_houses['bedrooms'].mean(),top_five_houses['price'].mean(), top_five_houses['sqft_living'].mean(), top_five_houses['bathrooms'].mean(), top_five_houses['yr_built'].mean(), top_five_houses['floors'].mean(), top_five_houses['grade'].mean() ], columns=['Top Houses']).T"
   ]
  },
  {
   "cell_type": "code",
   "execution_count": 391,
   "id": "3134fda3",
   "metadata": {
    "ExecuteTime": {
     "end_time": "2022-02-11T05:24:41.142830Z",
     "start_time": "2022-02-11T05:24:40.357190Z"
    }
   },
   "outputs": [],
   "source": [
    "bottom_houses_mean = pd.DataFrame(index= ['bedrooms', 'price', 'sqft_living', 'bathrooms', 'year_built' , 'floors', 'grade'],data=[ten_cheapest_houses['bedrooms'].mean(), ten_cheapest_houses['price'].mean(), ten_cheapest_houses['sqft_living'].mean(), ten_cheapest_houses['bathrooms'].mean(), ten_cheapest_houses['yr_built'].mean(), ten_cheapest_houses['floors'].mean(), ten_cheapest_houses['grade'].mean()], columns=['Bottom Houses']).T"
   ]
  },
  {
   "cell_type": "code",
   "execution_count": 392,
   "id": "3a35ca07",
   "metadata": {
    "ExecuteTime": {
     "end_time": "2022-02-11T05:24:41.578209Z",
     "start_time": "2022-02-11T05:24:41.144427Z"
    }
   },
   "outputs": [
    {
     "data": {
      "text/html": [
       "<div>\n",
       "<style scoped>\n",
       "    .dataframe tbody tr th:only-of-type {\n",
       "        vertical-align: middle;\n",
       "    }\n",
       "\n",
       "    .dataframe tbody tr th {\n",
       "        vertical-align: top;\n",
       "    }\n",
       "\n",
       "    .dataframe thead th {\n",
       "        text-align: right;\n",
       "    }\n",
       "</style>\n",
       "<table border=\"1\" class=\"dataframe\">\n",
       "  <thead>\n",
       "    <tr style=\"text-align: right;\">\n",
       "      <th></th>\n",
       "      <th>bedrooms</th>\n",
       "      <th>price</th>\n",
       "      <th>sqft_living</th>\n",
       "      <th>bathrooms</th>\n",
       "      <th>year_built</th>\n",
       "      <th>floors</th>\n",
       "      <th>grade</th>\n",
       "    </tr>\n",
       "  </thead>\n",
       "  <tbody>\n",
       "    <tr>\n",
       "      <th>Top Houses</th>\n",
       "      <td>5.200</td>\n",
       "      <td>5663530.000</td>\n",
       "      <td>8729.000</td>\n",
       "      <td>5.750</td>\n",
       "      <td>1983.900</td>\n",
       "      <td>1.950</td>\n",
       "      <td>12.200</td>\n",
       "    </tr>\n",
       "  </tbody>\n",
       "</table>\n",
       "</div>"
      ],
      "text/plain": [
       "            bedrooms       price  sqft_living  bathrooms  year_built  floors  \\\n",
       "Top Houses     5.200 5663530.000     8729.000      5.750    1983.900   1.950   \n",
       "\n",
       "            grade  \n",
       "Top Houses 12.200  "
      ]
     },
     "execution_count": 392,
     "metadata": {},
     "output_type": "execute_result"
    }
   ],
   "source": [
    "top_houses_mean.head()"
   ]
  },
  {
   "cell_type": "code",
   "execution_count": 393,
   "id": "85f3be20",
   "metadata": {
    "ExecuteTime": {
     "end_time": "2022-02-11T05:24:42.106649Z",
     "start_time": "2022-02-11T05:24:41.579999Z"
    }
   },
   "outputs": [
    {
     "data": {
      "text/html": [
       "<div>\n",
       "<style scoped>\n",
       "    .dataframe tbody tr th:only-of-type {\n",
       "        vertical-align: middle;\n",
       "    }\n",
       "\n",
       "    .dataframe tbody tr th {\n",
       "        vertical-align: top;\n",
       "    }\n",
       "\n",
       "    .dataframe thead th {\n",
       "        text-align: right;\n",
       "    }\n",
       "</style>\n",
       "<table border=\"1\" class=\"dataframe\">\n",
       "  <thead>\n",
       "    <tr style=\"text-align: right;\">\n",
       "      <th></th>\n",
       "      <th>bedrooms</th>\n",
       "      <th>price</th>\n",
       "      <th>sqft_living</th>\n",
       "      <th>bathrooms</th>\n",
       "      <th>year_built</th>\n",
       "      <th>floors</th>\n",
       "      <th>grade</th>\n",
       "    </tr>\n",
       "  </thead>\n",
       "  <tbody>\n",
       "    <tr>\n",
       "      <th>Bottom Houses</th>\n",
       "      <td>1.900</td>\n",
       "      <td>81550.000</td>\n",
       "      <td>733.000</td>\n",
       "      <td>0.875</td>\n",
       "      <td>1942.100</td>\n",
       "      <td>1.000</td>\n",
       "      <td>5.000</td>\n",
       "    </tr>\n",
       "  </tbody>\n",
       "</table>\n",
       "</div>"
      ],
      "text/plain": [
       "               bedrooms     price  sqft_living  bathrooms  year_built  floors  \\\n",
       "Bottom Houses     1.900 81550.000      733.000      0.875    1942.100   1.000   \n",
       "\n",
       "               grade  \n",
       "Bottom Houses  5.000  "
      ]
     },
     "execution_count": 393,
     "metadata": {},
     "output_type": "execute_result"
    }
   ],
   "source": [
    "bottom_houses_mean"
   ]
  },
  {
   "cell_type": "code",
   "execution_count": 394,
   "id": "40a57c08",
   "metadata": {
    "ExecuteTime": {
     "end_time": "2022-02-11T05:24:42.592301Z",
     "start_time": "2022-02-11T05:24:42.108835Z"
    }
   },
   "outputs": [],
   "source": [
    "top_bottom_mean = pd.concat([top_houses_mean, bottom_houses_mean])"
   ]
  },
  {
   "cell_type": "code",
   "execution_count": 395,
   "id": "cff420b6",
   "metadata": {
    "ExecuteTime": {
     "end_time": "2022-02-11T05:24:43.062574Z",
     "start_time": "2022-02-11T05:24:42.594041Z"
    }
   },
   "outputs": [
    {
     "data": {
      "text/html": [
       "<div>\n",
       "<style scoped>\n",
       "    .dataframe tbody tr th:only-of-type {\n",
       "        vertical-align: middle;\n",
       "    }\n",
       "\n",
       "    .dataframe tbody tr th {\n",
       "        vertical-align: top;\n",
       "    }\n",
       "\n",
       "    .dataframe thead th {\n",
       "        text-align: right;\n",
       "    }\n",
       "</style>\n",
       "<table border=\"1\" class=\"dataframe\">\n",
       "  <thead>\n",
       "    <tr style=\"text-align: right;\">\n",
       "      <th></th>\n",
       "      <th>bedrooms</th>\n",
       "      <th>price</th>\n",
       "      <th>sqft_living</th>\n",
       "      <th>bathrooms</th>\n",
       "      <th>year_built</th>\n",
       "      <th>floors</th>\n",
       "      <th>grade</th>\n",
       "    </tr>\n",
       "  </thead>\n",
       "  <tbody>\n",
       "    <tr>\n",
       "      <th>Top Houses</th>\n",
       "      <td>5.200</td>\n",
       "      <td>5663530.000</td>\n",
       "      <td>8729.000</td>\n",
       "      <td>5.750</td>\n",
       "      <td>1983.900</td>\n",
       "      <td>1.950</td>\n",
       "      <td>12.200</td>\n",
       "    </tr>\n",
       "    <tr>\n",
       "      <th>Bottom Houses</th>\n",
       "      <td>1.900</td>\n",
       "      <td>81550.000</td>\n",
       "      <td>733.000</td>\n",
       "      <td>0.875</td>\n",
       "      <td>1942.100</td>\n",
       "      <td>1.000</td>\n",
       "      <td>5.000</td>\n",
       "    </tr>\n",
       "  </tbody>\n",
       "</table>\n",
       "</div>"
      ],
      "text/plain": [
       "               bedrooms       price  sqft_living  bathrooms  year_built  \\\n",
       "Top Houses        5.200 5663530.000     8729.000      5.750    1983.900   \n",
       "Bottom Houses     1.900   81550.000      733.000      0.875    1942.100   \n",
       "\n",
       "               floors  grade  \n",
       "Top Houses      1.950 12.200  \n",
       "Bottom Houses   1.000  5.000  "
      ]
     },
     "execution_count": 395,
     "metadata": {},
     "output_type": "execute_result"
    }
   ],
   "source": [
    "# top_bottom_mean = top_bottom_mean.T\n",
    "top_bottom_mean"
   ]
  },
  {
   "cell_type": "code",
   "execution_count": 396,
   "id": "89482888",
   "metadata": {
    "ExecuteTime": {
     "end_time": "2022-02-11T05:24:43.511629Z",
     "start_time": "2022-02-11T05:24:43.064540Z"
    }
   },
   "outputs": [],
   "source": [
    "top_bottom_mean['cat'] = 0"
   ]
  },
  {
   "cell_type": "code",
   "execution_count": 397,
   "id": "bf196834",
   "metadata": {
    "ExecuteTime": {
     "end_time": "2022-02-11T05:24:43.966467Z",
     "start_time": "2022-02-11T05:24:43.513455Z"
    }
   },
   "outputs": [
    {
     "name": "stderr",
     "output_type": "stream",
     "text": [
      "/home/vinicius/miniconda3/lib/python3.9/site-packages/pandas/core/indexing.py:1732: SettingWithCopyWarning: \n",
      "A value is trying to be set on a copy of a slice from a DataFrame\n",
      "\n",
      "See the caveats in the documentation: https://pandas.pydata.org/pandas-docs/stable/user_guide/indexing.html#returning-a-view-versus-a-copy\n",
      "  self._setitem_single_block(indexer, value, name)\n"
     ]
    }
   ],
   "source": [
    "top_bottom_mean['cat'].iloc[0] = 'top'"
   ]
  },
  {
   "cell_type": "code",
   "execution_count": 398,
   "id": "67ece0c1",
   "metadata": {
    "ExecuteTime": {
     "end_time": "2022-02-11T05:24:44.475649Z",
     "start_time": "2022-02-11T05:24:43.968493Z"
    }
   },
   "outputs": [],
   "source": [
    "top_bottom_mean['cat'].iloc[1] = 'bottom'"
   ]
  },
  {
   "cell_type": "code",
   "execution_count": 399,
   "id": "ad65eae4",
   "metadata": {
    "ExecuteTime": {
     "end_time": "2022-02-11T05:24:44.918719Z",
     "start_time": "2022-02-11T05:24:44.477781Z"
    }
   },
   "outputs": [],
   "source": [
    "top_bottom_mean.rename(columns={'cat': 'category'}, inplace=True)"
   ]
  },
  {
   "cell_type": "code",
   "execution_count": 400,
   "id": "fdb29849",
   "metadata": {
    "ExecuteTime": {
     "end_time": "2022-02-11T05:24:45.344829Z",
     "start_time": "2022-02-11T05:24:44.920979Z"
    }
   },
   "outputs": [
    {
     "data": {
      "text/html": [
       "<div>\n",
       "<style scoped>\n",
       "    .dataframe tbody tr th:only-of-type {\n",
       "        vertical-align: middle;\n",
       "    }\n",
       "\n",
       "    .dataframe tbody tr th {\n",
       "        vertical-align: top;\n",
       "    }\n",
       "\n",
       "    .dataframe thead th {\n",
       "        text-align: right;\n",
       "    }\n",
       "</style>\n",
       "<table border=\"1\" class=\"dataframe\">\n",
       "  <thead>\n",
       "    <tr style=\"text-align: right;\">\n",
       "      <th></th>\n",
       "      <th>bedrooms</th>\n",
       "      <th>price</th>\n",
       "      <th>sqft_living</th>\n",
       "      <th>bathrooms</th>\n",
       "      <th>year_built</th>\n",
       "      <th>floors</th>\n",
       "      <th>grade</th>\n",
       "      <th>category</th>\n",
       "    </tr>\n",
       "  </thead>\n",
       "  <tbody>\n",
       "    <tr>\n",
       "      <th>Top Houses</th>\n",
       "      <td>5.200</td>\n",
       "      <td>5663530.000</td>\n",
       "      <td>8729.000</td>\n",
       "      <td>5.750</td>\n",
       "      <td>1983.900</td>\n",
       "      <td>1.950</td>\n",
       "      <td>12.200</td>\n",
       "      <td>top</td>\n",
       "    </tr>\n",
       "    <tr>\n",
       "      <th>Bottom Houses</th>\n",
       "      <td>1.900</td>\n",
       "      <td>81550.000</td>\n",
       "      <td>733.000</td>\n",
       "      <td>0.875</td>\n",
       "      <td>1942.100</td>\n",
       "      <td>1.000</td>\n",
       "      <td>5.000</td>\n",
       "      <td>bottom</td>\n",
       "    </tr>\n",
       "  </tbody>\n",
       "</table>\n",
       "</div>"
      ],
      "text/plain": [
       "               bedrooms       price  sqft_living  bathrooms  year_built  \\\n",
       "Top Houses        5.200 5663530.000     8729.000      5.750    1983.900   \n",
       "Bottom Houses     1.900   81550.000      733.000      0.875    1942.100   \n",
       "\n",
       "               floors  grade category  \n",
       "Top Houses      1.950 12.200      top  \n",
       "Bottom Houses   1.000  5.000   bottom  "
      ]
     },
     "execution_count": 400,
     "metadata": {},
     "output_type": "execute_result"
    }
   ],
   "source": [
    "top_bottom_mean"
   ]
  },
  {
   "cell_type": "code",
   "execution_count": 401,
   "id": "04a1d1ce",
   "metadata": {
    "ExecuteTime": {
     "end_time": "2022-02-11T05:24:46.740651Z",
     "start_time": "2022-02-11T05:24:45.346812Z"
    }
   },
   "outputs": [
    {
     "data": {
      "text/plain": [
       "<AxesSubplot:xlabel='category', ylabel='grade'>"
      ]
     },
     "execution_count": 401,
     "metadata": {},
     "output_type": "execute_result"
    },
    {
     "data": {
      "image/png": "[encoded data removed]",
      "text/plain": [
       "<Figure size 1296x720 with 8 Axes>"
      ]
     },
     "metadata": {},
     "output_type": "display_data"
    }
   ],
   "source": [
    "fig, axes = plt.subplots(2, 4, figsize=(18, 10))\n",
    "fig.suptitle('Pokemon Stats by Generation')\n",
    "sns.barplot(ax=axes[0, 0], data=top_bottom_mean, x='category', y='bedrooms')\n",
    "sns.barplot(ax=axes[0, 1], data=top_bottom_mean, x='category', y='price')\n",
    "sns.barplot(ax=axes[0, 2], data=top_bottom_mean, x='category', y='sqft_living')\n",
    "sns.barplot(ax=axes[0, 3], data=top_bottom_mean, x='category', y='bathrooms')\n",
    "sns.barplot(ax=axes[1, 0], data=top_bottom_mean, x='category', y='year_built')\n",
    "sns.barplot(ax=axes[1, 1], data=top_bottom_mean, x='category', y='floors')\n",
    "sns.barplot(ax=axes[1, 2], data=top_bottom_mean, x='category', y='grade')"
   ]
  },
  {
   "cell_type": "code",
   "execution_count": null,
   "id": "2ef13a04",
   "metadata": {},
   "outputs": [],
   "source": []
  },
  {
   "cell_type": "code",
   "execution_count": null,
   "id": "7e36fa56",
   "metadata": {},
   "outputs": [],
   "source": []
  }
 ],
 "metadata": {
  "kernelspec": {
   "display_name": "Python 3 (ipykernel)",
   "language": "python",
   "name": "python3"
  },
  "language_info": {
   "codemirror_mode": {
    "name": "ipython",
    "version": 3
   },
   "file_extension": ".py",
   "mimetype": "text/x-python",
   "name": "python",
   "nbconvert_exporter": "python",
   "pygments_lexer": "ipython3",
   "version": "3.9.1"
  },
  "toc": {
   "base_numbering": 1,
   "nav_menu": {},
   "number_sections": true,
   "sideBar": true,
   "skip_h1_title": false,
   "title_cell": "Table of Contents",
   "title_sidebar": "Contents",
   "toc_cell": false,
   "toc_position": {},
   "toc_section_display": true,
   "toc_window_display": false
  },
  "varInspector": {
   "cols": {
    "lenName": 16,
    "lenType": 16,
    "lenVar": 40
   },
   "kernels_config": {
    "python": {
     "delete_cmd_postfix": "",
     "delete_cmd_prefix": "del ",
     "library": "var_list.py",
     "varRefreshCmd": "print(var_dic_list())"
    },
    "r": {
     "delete_cmd_postfix": ") ",
     "delete_cmd_prefix": "rm(",
     "library": "var_list.r",
     "varRefreshCmd": "cat(var_dic_list()) "
    }
   },
   "types_to_exclude": [
    "module",
    "function",
    "builtin_function_or_method",
    "instance",
    "_Feature"
   ],
   "window_display": false
  }
 },
 "nbformat": 4,
 "nbformat_minor": 5
}
